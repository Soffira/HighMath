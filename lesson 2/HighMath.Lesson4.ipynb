{
 "cells": [
  {
   "cell_type": "markdown",
   "metadata": {},
   "source": [
    "### Урок 4. \n",
    "##### 1. Задание\n",
    "Напишите код, моделирующий выпадение поля в рулетке (с учетом поля зеро)."
   ]
  },
  {
   "cell_type": "code",
   "execution_count": 1,
   "metadata": {},
   "outputs": [],
   "source": [
    "%matplotlib inline\n",
    "import numpy as np"
   ]
  },
  {
   "cell_type": "code",
   "execution_count": 9,
   "metadata": {},
   "outputs": [
    {
     "name": "stdout",
     "output_type": "stream",
     "text": [
      "Чтобы закончить играть нажмите zz\n"
     ]
    }
   ],
   "source": [
    "red_list = [1,3,5,7,9,12,14,16,18,19,21,23,25,27,30,32,34,36]\n",
    "for i in range(0,5):\n",
    "    a = input('Чтобы закончить играть нажмите z')\n",
    "    if a == 'z': \n",
    "        break\n",
    "    x = np.random.randint(0, 37)\n",
    "    if x==0:\n",
    "        print('Выпало ' + 'zero')\n",
    "    else:\n",
    "        if x in red_list:\n",
    "            print('Выпало ' + str(x) + ' красная')\n",
    "        else:\n",
    "            print('Выпало ' + str(x) + ' черная')"
   ]
  },
  {
   "cell_type": "markdown",
   "metadata": {},
   "source": [
    "##### 2. Задание \n",
    "Напишите код, проверяющий любую из теорем сложения или умножения вероятности на примере подбрасывания монетки.\n"
   ]
  },
  {
   "cell_type": "code",
   "execution_count": 12,
   "metadata": {},
   "outputs": [
    {
     "name": "stdout",
     "output_type": "stream",
     "text": [
      "1\n"
     ]
    }
   ],
   "source": [
    "x = 2\n",
    "result = 1/x + 1/x\n",
    "print(int(result))"
   ]
  },
  {
   "cell_type": "markdown",
   "metadata": {},
   "source": [
    "Сгенерируйте десять выборок случайных чисел х0, …, х9.\n",
    "и постройте гистограмму распределения случайной суммы х0+х1+ …+ х9."
   ]
  },
  {
   "cell_type": "code",
   "execution_count": 33,
   "metadata": {},
   "outputs": [],
   "source": [
    "import matplotlib.pyplot as plt"
   ]
  },
  {
   "cell_type": "code",
   "execution_count": 49,
   "metadata": {},
   "outputs": [
    {
     "name": "stdout",
     "output_type": "stream",
     "text": [
      "x0 = 12\n",
      "x1 = 8\n",
      "x2 = 14\n",
      "x3 = 9\n",
      "x4 = 3\n",
      "x5 = 13\n",
      "x6 = 9\n",
      "x7 = 1\n",
      "x8 = 13\n",
      "x9 = 4\n"
     ]
    }
   ],
   "source": [
    "lst_num = []\n",
    "c = 0\n",
    "for i in range(0,10):\n",
    "    num = np.random.randint(0, 15)\n",
    "    lst_num.append(num)\n",
    "    print('x' + str(c) + ' = ' + str(num))\n",
    "    c = c + 1          "
   ]
  },
  {
   "cell_type": "code",
   "execution_count": 50,
   "metadata": {},
   "outputs": [
    {
     "data": {
      "image/png": "[encoded data removed]",
      "text/plain": [
       "<Figure size 432x288 with 1 Axes>"
      ]
     },
     "metadata": {
      "needs_background": "light"
     },
     "output_type": "display_data"
    }
   ],
   "source": [
    "plt.hist(sum(lst_num))\n",
    "plt.show()"
   ]
  },
  {
   "cell_type": "markdown",
   "metadata": {},
   "source": [
    "##### 3. Задание\n",
    "Дополните код Монте-Карло последовательности независимых испытаний расчетом соответствующих вероятностей (через биномиальное распределение) \n",
    "и сравните результаты."
   ]
  },
  {
   "cell_type": "code",
   "execution_count": 51,
   "metadata": {},
   "outputs": [],
   "source": [
    "import itertools"
   ]
  },
  {
   "cell_type": "code",
   "execution_count": 88,
   "metadata": {},
   "outputs": [
    {
     "name": "stdout",
     "output_type": "stream",
     "text": [
      "3015 8000 0.376875\n",
      "6.0\n"
     ]
    }
   ],
   "source": [
    "k,n = 0, 8000\n",
    "a = np.random.randint(0, 2, n)\n",
    "b = np.random.randint(0, 2, n)\n",
    "c = np.random.randint(0, 2, n)\n",
    "d = np.random.randint(0, 2, n)\n",
    "x = a + b + c + d\n",
    "for i in range(0, n):\n",
    "    if x[i] ==2:\n",
    "        k = k + 1\n",
    "print(k, n, k/n)\n",
    "c = (4*3*2)/(2*(4-2))\n",
    "print(c)"
   ]
  },
  {
   "cell_type": "markdown",
   "metadata": {},
   "source": [
    "##### 4. Задание \n",
    "Повторите расчеты, взяв другие значения n и k."
   ]
  },
  {
   "cell_type": "code",
   "execution_count": 101,
   "metadata": {},
   "outputs": [
    {
     "name": "stdout",
     "output_type": "stream",
     "text": [
      "5002 20000 0.2501\n"
     ]
    }
   ],
   "source": [
    "k, n = 0, 20000\n",
    "a = np.random.randint(0, 2, n)\n",
    "b = np.random.randint(0, 2, n)\n",
    "c = np.random.randint(0, 2, n)\n",
    "d = np.random.randint(0, 2, n)\n",
    "x = a + b + c + d\n",
    "for i in range(0, n):\n",
    "    if x[i] == 3:\n",
    "        k = k + 1\n",
    "print(k, n, k/n)"
   ]
  },
  {
   "cell_type": "markdown",
   "metadata": {},
   "source": [
    "##### 5. Задание \n",
    "Дополните код расчетом коэффициента корреляции x и y по формуле\n"
   ]
  },
  {
   "cell_type": "code",
   "execution_count": 129,
   "metadata": {},
   "outputs": [
    {
     "data": {
      "image/png": "[encoded data removed]",
      "text/plain": [
       "<Figure size 432x288 with 1 Axes>"
      ]
     },
     "metadata": {
      "needs_background": "light"
     },
     "output_type": "display_data"
    },
    {
     "name": "stdout",
     "output_type": "stream",
     "text": [
      "0.7243042348917005 0.14314994751208254\n",
      "0.724304234891702 0.1431499475120814\n",
      "[[1.         0.92423929]\n",
      " [0.92423929 1.        ]]\n",
      "0.9242392880515394\n"
     ]
    },
    {
     "name": "stderr",
     "output_type": "stream",
     "text": [
      "c:\\python\\lib\\site-packages\\ipykernel_launcher.py:15: FutureWarning: `rcond` parameter will change to the default of machine precision times ``max(M, N)`` where M and N are the input matrix dimensions.\n",
      "To use the future default and silence this warning we advise to pass `rcond=None`, to keep using the old, explicitly pass `rcond=-1`.\n",
      "  from ipykernel import kernelapp as app\n"
     ]
    }
   ],
   "source": [
    "n = 100\n",
    "r = 0.7\n",
    "x = np.random.rand(n)\n",
    "y = r*x + (1 - r)*np.random.rand(n)\n",
    "plt.plot(x, y, 'o')\n",
    "plt.xlabel('x')\n",
    "plt.ylabel('y')\n",
    "plt.grid(True)\n",
    "plt.show()\n",
    "\n",
    "a = (np.sum(x)*np.sum(y) - n*np.sum(x*y))/(np.sum(x)*np.sum(x) - n*np.sum(x*x))\n",
    "b = (np.sum(y) - a*np.sum(x))/n\n",
    "\n",
    "A = np.vstack([x, np.ones(len(x))]).T\n",
    "a1, b1 = np.linalg.lstsq(A, y)[0]\n",
    "\n",
    "print(a, b)\n",
    "print(a1, b1)\n",
    "\n",
    "#Найдем средние арифметические для X и Y:\n",
    "Mx = np.sum(x)/n\n",
    "My = np.sum(y)/n\n",
    "#dx = np.sum(x-Mx)\n",
    "#dy = np.sum(y-My)\n",
    "\n",
    "#Рассчитаем для каждого значения сопоставляемых показателей величину отклонения \n",
    "#от среднего арифметического dx = X - Mx и dy = Y - My\n",
    "lst_dx = []\n",
    "lst_dy = []\n",
    "for ox in x:\n",
    "    vx = ox - Mx\n",
    "    lst_dx.append(vx)\n",
    "for oy in y:\n",
    "    vy = oy - My\n",
    "    lst_dy.append(vy)\n",
    "\n",
    "#Найдем значение суммы произведений отклонений Σ(dx x dy):\n",
    "lst_xy = 0\n",
    "for h in range(len(lst_dx)):\n",
    "    lst_xy += lst_dx[h] * lst_dy[h]\n",
    "\n",
    "#Определим значения суммы квадратов отклонений Σ(dx2) и Σ(dy2):    \n",
    "lst_x2 = 0\n",
    "lst_y2 = 0\n",
    "for h in range(len(lst_dx)):\n",
    "    lst_x2 += lst_dx[h]**2\n",
    "    lst_y2 += lst_dy[h]**2\n",
    "    \n",
    "#Рассчитаем значение коэффициента корреляции:\n",
    "S = lst_xy/(np.sqrt(lst_x2*lst_y2))\n",
    "\n",
    "c = np.corrcoef(x, y)\n",
    "print(c)\n",
    "print(S)"
   ]
  },
  {
   "cell_type": "code",
   "execution_count": null,
   "metadata": {},
   "outputs": [],
   "source": []
  },
  {
   "cell_type": "code",
   "execution_count": null,
   "metadata": {},
   "outputs": [],
   "source": []
  }
 ],
 "metadata": {
  "kernelspec": {
   "display_name": "Python 3",
   "language": "python",
   "name": "python3"
  },
  "language_info": {
   "codemirror_mode": {
    "name": "ipython",
    "version": 3
   },
   "file_extension": ".py",
   "mimetype": "text/x-python",
   "name": "python",
   "nbconvert_exporter": "python",
   "pygments_lexer": "ipython3",
   "version": "3.6.5"
  }
 },
 "nbformat": 4,
 "nbformat_minor": 2
}
